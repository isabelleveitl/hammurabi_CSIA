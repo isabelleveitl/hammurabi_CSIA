{
 "cells": [
  {
   "cell_type": "markdown",
   "metadata": {},
   "source": [
    "# Hammurabi Softwareentwicklung\n",
    "Gruppenmitglieder: Isabelle Veitl, Sandra Rauscher, Sezer Sahintürk, Anna Weber\n",
    "\n",
    "Gruppenname: CSIA\n",
    "\n",
    "Product Owner: Anna Weber\n",
    "\n",
    "Repository Link: https://github.com/isabelleveitl/hammurabi_CSIA\n",
    "\n",
    "Trello Link: https://trello.com/hammurabi_sia/home"
   ]
  },
  {
   "cell_type": "markdown",
   "metadata": {},
   "source": [
    "## Sprint 0\n",
    "\n",
    "### Kanban User Stories\n",
    "![Ablaufdiagramm](img/Kanban_Userstories_screenshot1.PNG)"
   ]
  },
  {
   "cell_type": "markdown",
   "metadata": {},
   "source": [
    "## Sprint 1\n",
    "\n",
    "### Kanban Sprint 1 Start\n",
    "![Sprint1-Kanban-Start](img/sprint1_start.jpeg)\n",
    "\n",
    "### Ablaufdiagramm\n",
    "![Ablaufdiagramm](img/uml_ablauf.jpeg)\n",
    "\n",
    "### Entwurf Klassendiagramm\n",
    "![Klassendiagramm](img/uml_klassen.jpeg)\n",
    "\n",
    "### Sammlung der benötigten Variablen\n",
    "![Variablen](img/variables.jpeg)\n",
    "\n",
    "### Kanban Sprint 1 Complete\n",
    "![Sprint1-Kanban-Ende](img/sprint1_end.jpeg)\n"
   ]
  },
  {
   "cell_type": "markdown",
   "metadata": {},
   "source": [
    "## Sprint 2\n",
    "\n",
    "### Kanban Sprint 2 Start\n",
    "\n",
    "### Kanban Sprint 2 Complete\n",
    "\n",
    "\n"
   ]
  }
 ],
 "metadata": {
  "kernelspec": {
   "display_name": "Python 3",
   "language": "python",
   "name": "python3"
  },
  "language_info": {
   "codemirror_mode": {
    "name": "ipython",
    "version": 3
   },
   "file_extension": ".py",
   "mimetype": "text/x-python",
   "name": "python",
   "nbconvert_exporter": "python",
   "pygments_lexer": "ipython3",
   "version": "3.7.1"
  }
 },
 "nbformat": 4,
 "nbformat_minor": 2
}
